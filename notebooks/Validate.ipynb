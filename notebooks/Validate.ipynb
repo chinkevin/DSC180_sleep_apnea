{
 "cells": [
  {
   "cell_type": "code",
   "execution_count": 1,
   "id": "91393148",
   "metadata": {},
   "outputs": [],
   "source": [
    "import os\n",
    "import glob\n",
    "import numpy as np\n",
    "import pandas as pd\n",
    "import matplotlib.pyplot as plt\n",
    "import seaborn as sns\n",
    "from tqdm.notebook import tqdm\n",
    "import sklearn.metrics as skm\n",
    "from helper_functions import NUM2STR, STR2NUM\n",
    "from helper_functions import mean_std, median_iqr, perc_transition"
   ]
  },
  {
   "cell_type": "code",
   "execution_count": 2,
   "id": "67b420c0",
   "metadata": {},
   "outputs": [],
   "source": [
    "wdir = \"output/cv\"\n",
    "wdir_demo = \"output/demographics/\""
   ]
  },
  {
   "cell_type": "code",
   "execution_count": 3,
   "id": "51233c71",
   "metadata": {},
   "outputs": [],
   "source": [
    "# Choose model (set in config) -------------------\n",
    "model = \"eeg+eog+emg+demo\"\n",
    "\n",
    "df = pd.read_parquet(wdir + \"/cv_loo_nsrr_shhs.parquet\")\n",
    "# df['subj'] = df['subj'].astype(str)\n",
    "df_demo = pd.read_csv(wdir_demo + \"shhs_demo.csv\").set_index('subj')"
   ]
  },
  {
   "cell_type": "code",
   "execution_count": 4,
   "id": "c9a7cb50",
   "metadata": {},
   "outputs": [
    {
     "data": {
      "text/html": [
       "<div>\n",
       "<style scoped>\n",
       "    .dataframe tbody tr th:only-of-type {\n",
       "        vertical-align: middle;\n",
       "    }\n",
       "\n",
       "    .dataframe tbody tr th {\n",
       "        vertical-align: top;\n",
       "    }\n",
       "\n",
       "    .dataframe thead th {\n",
       "        text-align: right;\n",
       "    }\n",
       "</style>\n",
       "<table border=\"1\" class=\"dataframe\">\n",
       "  <thead>\n",
       "    <tr style=\"text-align: right;\">\n",
       "      <th></th>\n",
       "      <th>age</th>\n",
       "      <th>male</th>\n",
       "      <th>bmi</th>\n",
       "      <th>ahi</th>\n",
       "      <th>ethnicity</th>\n",
       "      <th>set</th>\n",
       "      <th>hypertension</th>\n",
       "    </tr>\n",
       "    <tr>\n",
       "      <th>subj</th>\n",
       "      <th></th>\n",
       "      <th></th>\n",
       "      <th></th>\n",
       "      <th></th>\n",
       "      <th></th>\n",
       "      <th></th>\n",
       "      <th></th>\n",
       "    </tr>\n",
       "  </thead>\n",
       "  <tbody>\n",
       "    <tr>\n",
       "      <th>200077</th>\n",
       "      <td>41.0</td>\n",
       "      <td>1</td>\n",
       "      <td>23.388687</td>\n",
       "      <td>9.738220</td>\n",
       "      <td>caucasian</td>\n",
       "      <td>training</td>\n",
       "      <td>0.0</td>\n",
       "    </tr>\n",
       "    <tr>\n",
       "      <th>200078</th>\n",
       "      <td>54.0</td>\n",
       "      <td>1</td>\n",
       "      <td>30.211833</td>\n",
       "      <td>19.685039</td>\n",
       "      <td>caucasian</td>\n",
       "      <td>training</td>\n",
       "      <td>1.0</td>\n",
       "    </tr>\n",
       "    <tr>\n",
       "      <th>200079</th>\n",
       "      <td>56.0</td>\n",
       "      <td>0</td>\n",
       "      <td>35.451050</td>\n",
       "      <td>26.000000</td>\n",
       "      <td>other</td>\n",
       "      <td>testing</td>\n",
       "      <td>0.0</td>\n",
       "    </tr>\n",
       "  </tbody>\n",
       "</table>\n",
       "</div>"
      ],
      "text/plain": [
       "         age  male        bmi        ahi  ethnicity       set  hypertension\n",
       "subj                                                                       \n",
       "200077  41.0     1  23.388687   9.738220  caucasian  training           0.0\n",
       "200078  54.0     1  30.211833  19.685039  caucasian  training           1.0\n",
       "200079  56.0     0  35.451050  26.000000      other   testing           0.0"
      ]
     },
     "execution_count": 4,
     "metadata": {},
     "output_type": "execute_result"
    }
   ],
   "source": [
    "df_demo"
   ]
  },
  {
   "cell_type": "code",
   "execution_count": 5,
   "id": "22f8e0d1",
   "metadata": {},
   "outputs": [
    {
     "data": {
      "application/vnd.jupyter.widget-view+json": {
       "model_id": "",
       "version_major": 2,
       "version_minor": 0
      },
      "text/plain": [
       "HBox(children=(FloatProgress(value=0.0, max=1.0), HTML(value='')))"
      ]
     },
     "metadata": {},
     "output_type": "display_data"
    },
    {
     "name": "stdout",
     "output_type": "stream",
     "text": [
      "\r"
     ]
    }
   ],
   "source": [
    "# Per each night\n",
    "df_scores = []\n",
    "\n",
    "labels = ['N1', 'N2', 'N3', 'R', 'W']\n",
    "\n",
    "for sub in tqdm(df['subj'].unique(), leave=False):\n",
    "    df_sub = df[df['subj'] == sub]\n",
    "    yt = df_sub['y_true']\n",
    "    yp = df_sub['y_pred']\n",
    "    n = yt.shape[0]\n",
    "\n",
    "    sub_scores = {\n",
    "        # Accuracy\n",
    "        'accuracy': 100 * skm.accuracy_score(yt, yp),\n",
    "        'kappa': 100 * skm.cohen_kappa_score(yt, yp, labels=labels),\n",
    "        'mcc': 100 * skm.matthews_corrcoef(yt, yp),\n",
    "        'f1_macro': 100 * skm.f1_score(yt, yp, labels=labels, average='macro', zero_division=1),\n",
    "        # % Transitions\n",
    "        'dur_hours': (yt.size / 2) / 60,\n",
    "        'perc_trans_true': perc_transition(yt),\n",
    "        'perc_trans_pred': perc_transition(yp),\n",
    "        # Confidence\n",
    "        'avg_confidence': 100 * df_sub['confidence'].mean()\n",
    "    }\n",
    "\n",
    "    # F1 for each stage\n",
    "    f1 = 100 * skm.f1_score(yt, yp, average=None, labels=labels, zero_division=1)\n",
    "    for f, l in zip(f1, labels):\n",
    "        sub_scores['f1_' + l] = f\n",
    "        \n",
    "    # In the case of an error, is the second-highest probability typically the correct one?\n",
    "    error = (yp != yt).to_numpy()\n",
    "    sub_scores['accuracy_second'] = 100 * skm.accuracy_score(yt[error], df_sub['y_pred_second'][error])\n",
    "\n",
    "    # Proportion of each stage (NaN = 0)\n",
    "    prop_true = (yt.value_counts() / n).add_prefix('perc_').add_suffix('_true')\n",
    "    prop_pred = (yp.value_counts() / n).add_prefix('perc_').add_suffix('_pred')\n",
    "    sub_scores.update(prop_true.to_dict())\n",
    "    sub_scores.update(prop_pred.to_dict())\n",
    "\n",
    "    # Append to main dataframe\n",
    "    df_scores.append(pd.DataFrame(sub_scores, index=[sub]))\n",
    "\n",
    "\n",
    "df_scores = pd.concat(df_scores)\n",
    "df_scores.sort_index(axis=1, inplace=True)\n",
    "df_scores.index.name = 'subj'\n",
    "\n",
    "# Join with demographics\n",
    "df_scores = df_scores.join(df_demo, how=\"left\")"
   ]
  },
  {
   "cell_type": "code",
   "execution_count": 6,
   "id": "3c1bb26d",
   "metadata": {},
   "outputs": [],
   "source": [
    "cmap = list(sns.color_palette(\"Blues\", n_colors=10, as_cmap=False, desat=1))\n",
    "color_pred = cmap[-1]\n",
    "color_ref = \"tab:orange\"\n",
    "cmap_stages = ['#99d7f1', '#009DDC', 'xkcd:twilight blue', 'xkcd:rich purple', 'xkcd:sunflower']"
   ]
  },
  {
   "cell_type": "code",
   "execution_count": 7,
   "id": "5d17605d",
   "metadata": {},
   "outputs": [
    {
     "data": {
      "text/html": [
       "<div>\n",
       "<style scoped>\n",
       "    .dataframe tbody tr th:only-of-type {\n",
       "        vertical-align: middle;\n",
       "    }\n",
       "\n",
       "    .dataframe tbody tr th {\n",
       "        vertical-align: top;\n",
       "    }\n",
       "\n",
       "    .dataframe thead th {\n",
       "        text-align: right;\n",
       "    }\n",
       "</style>\n",
       "<table border=\"1\" class=\"dataframe\">\n",
       "  <thead>\n",
       "    <tr style=\"text-align: right;\">\n",
       "      <th></th>\n",
       "      <th>accuracy</th>\n",
       "      <th>accuracy_second</th>\n",
       "      <th>avg_confidence</th>\n",
       "      <th>dur_hours</th>\n",
       "      <th>f1_N1</th>\n",
       "      <th>f1_N2</th>\n",
       "      <th>f1_N3</th>\n",
       "      <th>f1_R</th>\n",
       "      <th>f1_W</th>\n",
       "      <th>f1_macro</th>\n",
       "      <th>...</th>\n",
       "      <th>perc_W_true</th>\n",
       "      <th>perc_trans_pred</th>\n",
       "      <th>perc_trans_true</th>\n",
       "      <th>age</th>\n",
       "      <th>male</th>\n",
       "      <th>bmi</th>\n",
       "      <th>ahi</th>\n",
       "      <th>ethnicity</th>\n",
       "      <th>set</th>\n",
       "      <th>hypertension</th>\n",
       "    </tr>\n",
       "    <tr>\n",
       "      <th>subj</th>\n",
       "      <th></th>\n",
       "      <th></th>\n",
       "      <th></th>\n",
       "      <th></th>\n",
       "      <th></th>\n",
       "      <th></th>\n",
       "      <th></th>\n",
       "      <th></th>\n",
       "      <th></th>\n",
       "      <th></th>\n",
       "      <th></th>\n",
       "      <th></th>\n",
       "      <th></th>\n",
       "      <th></th>\n",
       "      <th></th>\n",
       "      <th></th>\n",
       "      <th></th>\n",
       "      <th></th>\n",
       "      <th></th>\n",
       "      <th></th>\n",
       "      <th></th>\n",
       "    </tr>\n",
       "  </thead>\n",
       "  <tbody>\n",
       "    <tr>\n",
       "      <th>200079</th>\n",
       "      <td>74.689165</td>\n",
       "      <td>72.631579</td>\n",
       "      <td>97.888296</td>\n",
       "      <td>9.383333</td>\n",
       "      <td>39.08046</td>\n",
       "      <td>75.559701</td>\n",
       "      <td>0.0</td>\n",
       "      <td>82.075472</td>\n",
       "      <td>93.521127</td>\n",
       "      <td>58.047352</td>\n",
       "      <td>...</td>\n",
       "      <td>0.308171</td>\n",
       "      <td>11.634103</td>\n",
       "      <td>17.49556</td>\n",
       "      <td>56.0</td>\n",
       "      <td>0</td>\n",
       "      <td>35.45105</td>\n",
       "      <td>26.0</td>\n",
       "      <td>other</td>\n",
       "      <td>testing</td>\n",
       "      <td>0.0</td>\n",
       "    </tr>\n",
       "  </tbody>\n",
       "</table>\n",
       "<p>1 rows × 30 columns</p>\n",
       "</div>"
      ],
      "text/plain": [
       "         accuracy  accuracy_second  avg_confidence  dur_hours     f1_N1  \\\n",
       "subj                                                                      \n",
       "200079  74.689165        72.631579       97.888296   9.383333  39.08046   \n",
       "\n",
       "            f1_N2  f1_N3       f1_R       f1_W   f1_macro  ...  perc_W_true  \\\n",
       "subj                                                       ...                \n",
       "200079  75.559701    0.0  82.075472  93.521127  58.047352  ...     0.308171   \n",
       "\n",
       "        perc_trans_pred  perc_trans_true   age  male       bmi   ahi  \\\n",
       "subj                                                                   \n",
       "200079        11.634103         17.49556  56.0     0  35.45105  26.0   \n",
       "\n",
       "        ethnicity      set  hypertension  \n",
       "subj                                      \n",
       "200079      other  testing           0.0  \n",
       "\n",
       "[1 rows x 30 columns]"
      ]
     },
     "execution_count": 7,
     "metadata": {},
     "output_type": "execute_result"
    }
   ],
   "source": [
    "df_scores"
   ]
  },
  {
   "cell_type": "code",
   "execution_count": 8,
   "id": "91cf10b7",
   "metadata": {},
   "outputs": [
    {
     "name": "stderr",
     "output_type": "stream",
     "text": [
      "<ipython-input-8-4e9e1aa057a2>:19: UserWarning: Tight layout not applied. The left and right margins cannot be made large enough to accommodate all axes decorations. \n",
      "  plt.tight_layout()\n"
     ]
    },
    {
     "data": {
      "image/png": "[encoded data removed]",
      "text/plain": [
       "<Figure size 450x450 with 1 Axes>"
      ]
     },
     "metadata": {
      "needs_background": "light"
     },
     "output_type": "display_data"
    }
   ],
   "source": [
    "# Boxplot of accuracy\n",
    "fig, ax = plt.subplots(1, 1, figsize=(4.5, 4.5), dpi=100)\n",
    "# order = df_scores['accuracy'].median().sort_values(ascending=False).index\n",
    "\n",
    "ax1 = sns.boxplot(data=df_scores.reset_index(), y='accuracy', color=color_pred, saturation=1, \n",
    "                  fliersize=0, width=0.6, notch=True, linewidth=1.5)\n",
    "                  # boxprops=dict(edgecolor=\"k\"))\n",
    "\n",
    "# plt.title(\"Performance on testing set (n=%i)\" % df_scores.shape[0])\n",
    "plt.xlabel(\"Dataset (~100 test nights each)\")\n",
    "plt.ylabel(\"Accuracy\")\n",
    "plt.ylim(50, 100)\n",
    "\n",
    "ax.annotate(\"Accuracy (median): %.2f\\nKappa (median): %.2f\" % \n",
    "            (df_scores['accuracy'].median(), df_scores['kappa'].median()),\n",
    "            xy=(5, 55), ha=\"right\", fontstyle=\"italic\", fontweight=\"semibold\")\n",
    "\n",
    "sns.despine()\n",
    "plt.tight_layout()\n",
    "plt.show()#savefig(outdir + \"cv_boxplot_accuracy_datasets.png\", dpi=300, bbox_inches=\"tight\")"
   ]
  },
  {
   "cell_type": "code",
   "execution_count": null,
   "id": "dfffa608",
   "metadata": {},
   "outputs": [],
   "source": []
  }
 ],
 "metadata": {
  "kernelspec": {
   "display_name": "Python 3",
   "language": "python",
   "name": "python3"
  },
  "language_info": {
   "codemirror_mode": {
    "name": "ipython",
    "version": 3
   },
   "file_extension": ".py",
   "mimetype": "text/x-python",
   "name": "python",
   "nbconvert_exporter": "python",
   "pygments_lexer": "ipython3",
   "version": "3.8.8"
  }
 },
 "nbformat": 4,
 "nbformat_minor": 5
}
