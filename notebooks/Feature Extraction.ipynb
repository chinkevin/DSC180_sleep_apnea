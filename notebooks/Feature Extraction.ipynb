{
 "cells": [
  {
   "cell_type": "code",
   "execution_count": 1,
   "id": "4532e8cc",
   "metadata": {},
   "outputs": [],
   "source": [
    "import os\n",
    "import warnings\n",
    "import numpy as np\n",
    "import pandas as pd\n",
    "from tqdm.notebook import tqdm\n",
    "from mne.io import read_raw_edf\n",
    "import yasa\n",
    "from preprocessing import crop_hypno, extract_features"
   ]
  },
  {
   "cell_type": "code",
   "execution_count": 19,
   "id": "f0fe5ae1",
   "metadata": {},
   "outputs": [],
   "source": [
    "# Define paths (can be defined in config files)\n",
    "eeg_dir = 'data/edfs/shhs2/'\n",
    "hypno_dir = 'data/annotations-events-profusion/shhs2/'\n",
    "parent_dir = os.path.dirname(os.getcwd())\n",
    "out_dir = './output/features/'"
   ]
  },
  {
   "cell_type": "code",
   "execution_count": 3,
   "id": "029ed636",
   "metadata": {},
   "outputs": [],
   "source": [
    "df_subj = pd.read_csv(\"./output/split/shhs_split.csv\")\n",
    "df_subj = df_subj.query(\"set == 'training'\").set_index(\"subj\")"
   ]
  },
  {
   "cell_type": "code",
   "execution_count": 4,
   "id": "79482460",
   "metadata": {},
   "outputs": [
    {
     "name": "stdout",
     "output_type": "stream",
     "text": [
      "2 subjects remaining\n"
     ]
    },
    {
     "data": {
      "text/html": [
       "<div>\n",
       "<style scoped>\n",
       "    .dataframe tbody tr th:only-of-type {\n",
       "        vertical-align: middle;\n",
       "    }\n",
       "\n",
       "    .dataframe tbody tr th {\n",
       "        vertical-align: top;\n",
       "    }\n",
       "\n",
       "    .dataframe thead th {\n",
       "        text-align: right;\n",
       "    }\n",
       "</style>\n",
       "<table border=\"1\" class=\"dataframe\">\n",
       "  <thead>\n",
       "    <tr style=\"text-align: right;\">\n",
       "      <th></th>\n",
       "      <th>age</th>\n",
       "      <th>male</th>\n",
       "      <th>bmi</th>\n",
       "      <th>ahi</th>\n",
       "      <th>ethnicity</th>\n",
       "      <th>set</th>\n",
       "      <th>hypertension</th>\n",
       "    </tr>\n",
       "    <tr>\n",
       "      <th>subj</th>\n",
       "      <th></th>\n",
       "      <th></th>\n",
       "      <th></th>\n",
       "      <th></th>\n",
       "      <th></th>\n",
       "      <th></th>\n",
       "      <th></th>\n",
       "    </tr>\n",
       "  </thead>\n",
       "  <tbody>\n",
       "    <tr>\n",
       "      <th>200077</th>\n",
       "      <td>41.0</td>\n",
       "      <td>1</td>\n",
       "      <td>23.388687</td>\n",
       "      <td>9.738220</td>\n",
       "      <td>caucasian</td>\n",
       "      <td>training</td>\n",
       "      <td>0.0</td>\n",
       "    </tr>\n",
       "    <tr>\n",
       "      <th>200078</th>\n",
       "      <td>54.0</td>\n",
       "      <td>1</td>\n",
       "      <td>30.211833</td>\n",
       "      <td>19.685039</td>\n",
       "      <td>caucasian</td>\n",
       "      <td>training</td>\n",
       "      <td>1.0</td>\n",
       "    </tr>\n",
       "  </tbody>\n",
       "</table>\n",
       "</div>"
      ],
      "text/plain": [
       "         age  male        bmi        ahi  ethnicity       set  hypertension\n",
       "subj                                                                       \n",
       "200077  41.0     1  23.388687   9.738220  caucasian  training           0.0\n",
       "200078  54.0     1  30.211833  19.685039  caucasian  training           1.0"
      ]
     },
     "execution_count": 4,
     "metadata": {},
     "output_type": "execute_result"
    }
   ],
   "source": [
    "print(df_subj.shape[0], 'subjects remaining')\n",
    "df_subj.head(10)"
   ]
  },
  {
   "cell_type": "code",
   "execution_count": 5,
   "id": "fe546de4",
   "metadata": {},
   "outputs": [
    {
     "data": {
      "application/vnd.jupyter.widget-view+json": {
       "model_id": "41e114f350ed4dfb97d926e2bf342140",
       "version_major": 2,
       "version_minor": 0
      },
      "text/plain": [
       "HBox(children=(FloatProgress(value=0.0, max=2.0), HTML(value='')))"
      ]
     },
     "metadata": {},
     "output_type": "display_data"
    },
    {
     "name": "stdout",
     "output_type": "stream",
     "text": [
      "\n"
     ]
    }
   ],
   "source": [
    "df = []\n",
    "include = ['EEG', 'EOG(L)', 'EMG']\n",
    "sf = 100\n",
    "\n",
    "for sub in tqdm(df_subj.index):\n",
    "    eeg_file = eeg_dir + 'shhs2-' + str(sub) + '.edf'\n",
    "    hypno_file = hypno_dir + 'shhs2-' + str(sub) + '-profusion.xml'\n",
    "    \n",
    "    # Check that file exists\n",
    "    if not os.path.isfile(eeg_file):\n",
    "        warnings.warn(\"File not found %s\" % eeg_file)\n",
    "        continue\n",
    "    if not os.path.isfile(hypno_file):\n",
    "        warnings.warn(\"File not found %s\" % hypno_file)\n",
    "        continue\n",
    "\n",
    "    # LOAD EEG DATA\n",
    "    try:\n",
    "        raw = read_raw_edf(eeg_file, preload=False, verbose=0)\n",
    "        raw.drop_channels(np.setdiff1d(raw.info['ch_names'], include))\n",
    "        # Skip subjects if channel were not found\n",
    "        assert len(raw.ch_names) == len(include)\n",
    "        raw.load_data()\n",
    "    except:\n",
    "        continue\n",
    "        \n",
    "    # Resample and high-pass filter \n",
    "    raw.resample(sf, npad=\"auto\")\n",
    "    \n",
    "    # LOAD HYPNOGRAM\n",
    "    hypno, sf_hyp = yasa.load_profusion_hypno(hypno_file)\n",
    "    # (Optional) We keep up to 15 minutes before / after sleep\n",
    "    # hypno, tmin, tmax = crop_hypno(hypno)\n",
    "    # raw.crop(tmin, tmax)\n",
    "    # Check that hypno and data have the same number of epochs\n",
    "    n_epochs = hypno.shape[0]\n",
    "    if n_epochs != np.floor(raw.n_times / sf / 30):\n",
    "        print(\"- Hypno and data size do not match.\")\n",
    "        continue\n",
    "    \n",
    "    # Convert hypnogram to str\n",
    "    df_hypno = pd.Series(hypno)\n",
    "    df_hypno.replace({0: 'W', 1: 'N1', 2: 'N2', 3: 'N3', 4: 'R'}, inplace=True)\n",
    "    stage_min = df_hypno.value_counts(sort=False) / 2\n",
    "\n",
    "    # INCLUSION CRITERIA (DISABLED)\n",
    "    # Hypnogram must include all stages\n",
    "#     if np.unique(hypno).tolist() != [0, 1, 2, 3, 4]:\n",
    "#         print(\"- Not all stages are present.\")\n",
    "#         continue\n",
    "#     # If the duration is not between 4 to 12 hours, skip subject\n",
    "#     if not(4 < n_epochs / 120 < 12):\n",
    "#         print(\"- Recording too short/long.\")\n",
    "#         continue\n",
    "\n",
    "    # EXTRACT FEATURES\n",
    "    features = extract_features(df_subj, sub, raw, include)\n",
    "    # Add hypnogram\n",
    "    features['stage'] = df_hypno.to_numpy()\n",
    "    df.append(features)\n",
    "\n",
    "df = pd.concat(df)"
   ]
  },
  {
   "cell_type": "code",
   "execution_count": 6,
   "id": "4780653b",
   "metadata": {},
   "outputs": [],
   "source": [
    "# Convert to category\n",
    "df['stage'] = df['stage'].astype('category')"
   ]
  },
  {
   "cell_type": "code",
   "execution_count": 24,
   "id": "64ee0790",
   "metadata": {},
   "outputs": [],
   "source": [
    "# Export\n",
    "df.to_parquet(out_dir + \"features_nsrr_shhs2.parquet\")"
   ]
  },
  {
   "cell_type": "code",
   "execution_count": null,
   "id": "edd0c363",
   "metadata": {},
   "outputs": [],
   "source": []
  },
  {
   "cell_type": "markdown",
   "id": "45f09c78",
   "metadata": {},
   "source": [
    "## Stats"
   ]
  },
  {
   "cell_type": "code",
   "execution_count": 8,
   "id": "b37a08e1",
   "metadata": {},
   "outputs": [
    {
     "data": {
      "text/plain": [
       "W     0.424048\n",
       "N2    0.384093\n",
       "R     0.147003\n",
       "N1    0.028270\n",
       "N3    0.016585\n",
       "Name: stage, dtype: float64"
      ]
     },
     "execution_count": 8,
     "metadata": {},
     "output_type": "execute_result"
    }
   ],
   "source": [
    "df['stage'].value_counts(normalize=True, sort=True)"
   ]
  },
  {
   "cell_type": "code",
   "execution_count": 9,
   "id": "09cf87f8",
   "metadata": {},
   "outputs": [
    {
     "data": {
      "text/plain": [
       "stage\n",
       "N1     11.011239\n",
       "N2     14.550829\n",
       "N3     20.749241\n",
       "R       9.838191\n",
       "W     231.408218\n",
       "Name: eeg_iqr, dtype: float32"
      ]
     },
     "execution_count": 9,
     "metadata": {},
     "output_type": "execute_result"
    }
   ],
   "source": [
    "df.groupby('stage')['eeg_iqr'].median()"
   ]
  },
  {
   "cell_type": "code",
   "execution_count": null,
   "id": "baec64c6",
   "metadata": {},
   "outputs": [],
   "source": []
  }
 ],
 "metadata": {
  "kernelspec": {
   "display_name": "Python 3",
   "language": "python",
   "name": "python3"
  },
  "language_info": {
   "codemirror_mode": {
    "name": "ipython",
    "version": 3
   },
   "file_extension": ".py",
   "mimetype": "text/x-python",
   "name": "python",
   "nbconvert_exporter": "python",
   "pygments_lexer": "ipython3",
   "version": "3.8.8"
  }
 },
 "nbformat": 4,
 "nbformat_minor": 5
}
