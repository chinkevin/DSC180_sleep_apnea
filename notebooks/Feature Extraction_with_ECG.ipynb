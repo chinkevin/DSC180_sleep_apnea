{
 "cells": [
  {
   "cell_type": "code",
   "execution_count": 1,
   "metadata": {},
   "outputs": [],
   "source": [
    "import os\n",
    "import warnings\n",
    "import numpy as np\n",
    "import pandas as pd\n",
    "from tqdm.notebook import tqdm\n",
    "from mne.io import read_raw_edf\n",
    "import yasa\n",
    "from preprocessing import crop_hypno, extract_features\n",
    "import mne\n",
    "import sleepecg\n",
    "import random"
   ]
  },
  {
   "cell_type": "code",
   "execution_count": 2,
   "metadata": {},
   "outputs": [],
   "source": [
    "# Define paths (can be defined in config files)\n",
    "parent_dir = os.path.dirname(os.getcwd())\n",
    "eeg_dir = parent_dir+'/data/edfs/shhs2/'\n",
    "hypno_dir = parent_dir+'/data/annotations-events-profusion/shhs2/'\n",
    "out_dir = '/output/features/'\n",
    "if not os.path.isdir(parent_dir+out_dir):\n",
    "    os.mkdir(parent_dir+out_dir)"
   ]
  },
  {
   "cell_type": "code",
   "execution_count": 3,
   "metadata": {},
   "outputs": [],
   "source": [
    "df_subj = pd.read_csv(parent_dir+\"/output/split/shhs_split.csv\")\n",
    "df_subj = df_subj.query(\"set == 'training'\").set_index(\"subj\")"
   ]
  },
  {
   "cell_type": "code",
   "execution_count": 4,
   "metadata": {},
   "outputs": [
    {
     "name": "stdout",
     "output_type": "stream",
     "text": [
      "80 subjects remaining\n"
     ]
    },
    {
     "data": {
      "text/html": [
       "<div>\n",
       "<style scoped>\n",
       "    .dataframe tbody tr th:only-of-type {\n",
       "        vertical-align: middle;\n",
       "    }\n",
       "\n",
       "    .dataframe tbody tr th {\n",
       "        vertical-align: top;\n",
       "    }\n",
       "\n",
       "    .dataframe thead th {\n",
       "        text-align: right;\n",
       "    }\n",
       "</style>\n",
       "<table border=\"1\" class=\"dataframe\">\n",
       "  <thead>\n",
       "    <tr style=\"text-align: right;\">\n",
       "      <th></th>\n",
       "      <th>age</th>\n",
       "      <th>male</th>\n",
       "      <th>bmi</th>\n",
       "      <th>ahi</th>\n",
       "      <th>ethnicity</th>\n",
       "      <th>set</th>\n",
       "      <th>hypertension</th>\n",
       "    </tr>\n",
       "    <tr>\n",
       "      <th>subj</th>\n",
       "      <th></th>\n",
       "      <th></th>\n",
       "      <th></th>\n",
       "      <th></th>\n",
       "      <th></th>\n",
       "      <th></th>\n",
       "      <th></th>\n",
       "    </tr>\n",
       "  </thead>\n",
       "  <tbody>\n",
       "    <tr>\n",
       "      <th>200077</th>\n",
       "      <td>41.0</td>\n",
       "      <td>1</td>\n",
       "      <td>23.388687</td>\n",
       "      <td>9.738220</td>\n",
       "      <td>caucasian</td>\n",
       "      <td>training</td>\n",
       "      <td>0.0</td>\n",
       "    </tr>\n",
       "    <tr>\n",
       "      <th>200078</th>\n",
       "      <td>54.0</td>\n",
       "      <td>1</td>\n",
       "      <td>30.211833</td>\n",
       "      <td>19.685039</td>\n",
       "      <td>caucasian</td>\n",
       "      <td>training</td>\n",
       "      <td>1.0</td>\n",
       "    </tr>\n",
       "    <tr>\n",
       "      <th>200079</th>\n",
       "      <td>56.0</td>\n",
       "      <td>0</td>\n",
       "      <td>35.451050</td>\n",
       "      <td>26.000000</td>\n",
       "      <td>other</td>\n",
       "      <td>training</td>\n",
       "      <td>0.0</td>\n",
       "    </tr>\n",
       "    <tr>\n",
       "      <th>200080</th>\n",
       "      <td>54.0</td>\n",
       "      <td>1</td>\n",
       "      <td>32.645673</td>\n",
       "      <td>12.450000</td>\n",
       "      <td>caucasian</td>\n",
       "      <td>training</td>\n",
       "      <td>0.0</td>\n",
       "    </tr>\n",
       "    <tr>\n",
       "      <th>200081</th>\n",
       "      <td>40.0</td>\n",
       "      <td>0</td>\n",
       "      <td>31.644286</td>\n",
       "      <td>2.632794</td>\n",
       "      <td>caucasian</td>\n",
       "      <td>training</td>\n",
       "      <td>0.0</td>\n",
       "    </tr>\n",
       "    <tr>\n",
       "      <th>200086</th>\n",
       "      <td>68.0</td>\n",
       "      <td>1</td>\n",
       "      <td>23.225432</td>\n",
       "      <td>22.258065</td>\n",
       "      <td>caucasian</td>\n",
       "      <td>training</td>\n",
       "      <td>0.0</td>\n",
       "    </tr>\n",
       "    <tr>\n",
       "      <th>200089</th>\n",
       "      <td>42.0</td>\n",
       "      <td>0</td>\n",
       "      <td>23.889873</td>\n",
       "      <td>6.885246</td>\n",
       "      <td>caucasian</td>\n",
       "      <td>training</td>\n",
       "      <td>0.0</td>\n",
       "    </tr>\n",
       "    <tr>\n",
       "      <th>200091</th>\n",
       "      <td>77.0</td>\n",
       "      <td>0</td>\n",
       "      <td>22.892820</td>\n",
       "      <td>7.407407</td>\n",
       "      <td>caucasian</td>\n",
       "      <td>training</td>\n",
       "      <td>1.0</td>\n",
       "    </tr>\n",
       "    <tr>\n",
       "      <th>200103</th>\n",
       "      <td>51.0</td>\n",
       "      <td>1</td>\n",
       "      <td>32.933601</td>\n",
       "      <td>30.334572</td>\n",
       "      <td>caucasian</td>\n",
       "      <td>training</td>\n",
       "      <td>0.0</td>\n",
       "    </tr>\n",
       "    <tr>\n",
       "      <th>200105</th>\n",
       "      <td>53.0</td>\n",
       "      <td>1</td>\n",
       "      <td>26.173833</td>\n",
       "      <td>4.000000</td>\n",
       "      <td>caucasian</td>\n",
       "      <td>training</td>\n",
       "      <td>0.0</td>\n",
       "    </tr>\n",
       "  </tbody>\n",
       "</table>\n",
       "</div>"
      ],
      "text/plain": [
       "         age  male        bmi        ahi  ethnicity       set  hypertension\n",
       "subj                                                                       \n",
       "200077  41.0     1  23.388687   9.738220  caucasian  training           0.0\n",
       "200078  54.0     1  30.211833  19.685039  caucasian  training           1.0\n",
       "200079  56.0     0  35.451050  26.000000      other  training           0.0\n",
       "200080  54.0     1  32.645673  12.450000  caucasian  training           0.0\n",
       "200081  40.0     0  31.644286   2.632794  caucasian  training           0.0\n",
       "200086  68.0     1  23.225432  22.258065  caucasian  training           0.0\n",
       "200089  42.0     0  23.889873   6.885246  caucasian  training           0.0\n",
       "200091  77.0     0  22.892820   7.407407  caucasian  training           1.0\n",
       "200103  51.0     1  32.933601  30.334572  caucasian  training           0.0\n",
       "200105  53.0     1  26.173833   4.000000  caucasian  training           0.0"
      ]
     },
     "execution_count": 4,
     "metadata": {},
     "output_type": "execute_result"
    }
   ],
   "source": [
    "print(df_subj.shape[0], 'subjects remaining')\n",
    "df_subj.head(10)"
   ]
  },
  {
   "cell_type": "code",
   "execution_count": 5,
   "metadata": {},
   "outputs": [],
   "source": [
    "col = ['ECG_meanNN','ECG_maxNN','ECG_minNN','ECG_rangeNN','ECG_SDNN','ECG_RMSSD','ECG_SDSD','ECG_NN50',\n",
    "       'ECG_NN20','ECG_pNN50','ECG_pNN20','ECG_medianNN','ECG_madNN','ECG_iqrNN','ECG_cvNN',\n",
    "       'ECG_cvSD','ECG_meanHR','ECG_maxHR', 'ECG_minHR', 'ECG_stdHR',\n",
    "       'ECG_SD1', 'ECG_SD2', 'ECG_S', 'ECG_SD1_SD2_ratio', 'ECG_CSI', 'ECG_CVI','ECG_total_power', \n",
    "       'ECG_vlf', 'ECG_lf', 'ECG_lf_norm', 'ECG_hf', 'ECG_hf_norm', 'ECG_lf_hf_ratio']"
   ]
  },
  {
   "cell_type": "code",
   "execution_count": 6,
   "metadata": {},
   "outputs": [
    {
     "data": {
      "application/vnd.jupyter.widget-view+json": {
       "model_id": "2c6c193f5b8b4d1e8078cb234a0f3445",
       "version_major": 2,
       "version_minor": 0
      },
      "text/plain": [
       "  0%|          | 0/80 [00:00<?, ?it/s]"
      ]
     },
     "metadata": {},
     "output_type": "display_data"
    }
   ],
   "source": [
    "df = []\n",
    "include = ['EEG', 'EOG(L)', 'EMG','ECG']\n",
    "sf = 100\n",
    "\n",
    "for sub in tqdm(df_subj.index):\n",
    "    eeg_file = eeg_dir + 'shhs2-' + str(sub) + '.edf'\n",
    "    hypno_file = hypno_dir + 'shhs2-' + str(sub) + '-profusion.xml'\n",
    "    \n",
    "    # Check that file exists\n",
    "    if not os.path.isfile(eeg_file):\n",
    "        warnings.warn(\"File not found %s\" % eeg_file)\n",
    "        continue\n",
    "    if not os.path.isfile(hypno_file):\n",
    "        warnings.warn(\"File not found %s\" % hypno_file)\n",
    "        continue\n",
    "\n",
    "    # LOAD EEG DATA\n",
    "    try:\n",
    "        raw = read_raw_edf(eeg_file, preload=False, verbose=0)\n",
    "        raw.drop_channels(np.setdiff1d(raw.info['ch_names'], include))\n",
    "        # Skip subjects if channel were not found\n",
    "        assert len(raw.ch_names) == len(include)\n",
    "        raw.load_data()\n",
    "    except:\n",
    "        continue\n",
    "    _, times = raw[:]  \n",
    "        \n",
    "    # Resample and high-pass filter \n",
    "    raw.resample(sf, npad=\"auto\")\n",
    "    ecg = raw.get_data()[0]\n",
    "    \n",
    "\n",
    "    \n",
    "    # LOAD HYPNOGRAM\n",
    "    hypno, sf_hyp = yasa.load_profusion_hypno(hypno_file)\n",
    "    # (Optional) We keep up to 15 minutes before / after sleep\n",
    "    # hypno, tmin, tmax = crop_hypno(hypno)\n",
    "    # raw.crop(tmin, tmax)\n",
    "    # Check that hypno and data have the same number of epochs\n",
    "    n_epochs = hypno.shape[0]\n",
    "    if n_epochs != np.floor(raw.n_times / sf / 30):\n",
    "        print(\"- Hypno and data size do not match.\")\n",
    "        continue\n",
    "    \n",
    "    # Convert hypnogram to str\n",
    "    df_hypno = pd.Series(hypno)\n",
    "    df_hypno.replace({0: 'W', 1: 'N1', 2: 'N2', 3: 'N3', 4: 'R'}, inplace=True)\n",
    "    stage_min = df_hypno.value_counts(sort=False) / 2\n",
    "\n",
    "    # INCLUSION CRITERIA (DISABLED)\n",
    "    # Hypnogram must include all stages\n",
    "#     if np.unique(hypno).tolist() != [0, 1, 2, 3, 4]:\n",
    "#         print(\"- Not all stages are present.\")\n",
    "#         continue\n",
    "#     # If the duration is not between 4 to 12 hours, skip subject\n",
    "#     if not(4 < n_epochs / 120 < 12):\n",
    "#         print(\"- Recording too short/long.\")\n",
    "#         continue\n",
    "\n",
    "    # EXTRACT FEATURES\n",
    "    features = extract_features(df_subj, sub, raw, include)\n",
    "    # Add hypnogram\n",
    "    features['stage'] = df_hypno.to_numpy()\n",
    "    \n",
    "    # ---------------------\n",
    "    # extract ECG features\n",
    "    # Read ECG data\n",
    "    heartbeat_times = sleepecg.detect_heartbeats(ecg, sf)/sf\n",
    "    sleep_stage_duration = 30\n",
    "    # record_duration = times[-1]\n",
    "    num_stages = features.shape[0]\n",
    "    # check if ECG epoch number is the same with EEG epoch number\n",
    "    if (features.shape[0] - num_stages) != 0:\n",
    "        print('Skip due to different numbers of epoch')\n",
    "        continue\n",
    "    stage_times = np.arange(num_stages) * sleep_stage_duration\n",
    "    min_rri, max_rri = None, None\n",
    "    lookback, lookforward = 240, 60\n",
    "    rri = sleepecg.preprocess_rri(\n",
    "            np.diff(heartbeat_times),\n",
    "            min_rri=min_rri,\n",
    "            max_rri=max_rri,\n",
    "        )\n",
    "    rri_times = heartbeat_times[1:]\n",
    "    ##\n",
    "    fs_rri_resample = 100\n",
    "    max_nans = 0.5\n",
    "    feature_ids = []\n",
    "\n",
    "    \n",
    "    with warnings.catch_warnings():\n",
    "        warnings.simplefilter(\"ignore\", category=RuntimeWarning)\n",
    "        td_feature = sleepecg.feature_extraction._hrv_timedomain_features(rri,\n",
    "                        rri_times,stage_times,lookback,lookforward,)\n",
    "        fd_feature = sleepecg.feature_extraction._hrv_frequencydomain_features(rri,rri_times,\n",
    "                    stage_times,lookback,lookforward,fs_rri_resample, max_nans, feature_ids)\n",
    "    \n",
    "    td_feat = pd.DataFrame(td_feature)\n",
    "    fd_feat = pd.DataFrame(fd_feature)\n",
    "    df_ecg = pd.concat([td_feat,fd_feat],axis = 1)\n",
    "    df_ecg.columns = col\n",
    "    features.reset_index(inplace=True)\n",
    "    temp = pd.concat([features, df_ecg], axis=1)\n",
    "    temp.set_index(['subj','epoch'])\n",
    "    \n",
    "    \n",
    "    df.append(temp)\n",
    "\n",
    "df = pd.concat(df).set_index(['subj','epoch'])"
   ]
  },
  {
   "cell_type": "code",
   "execution_count": 7,
   "metadata": {},
   "outputs": [],
   "source": [
    "# Convert to category\n",
    "df['stage'] = df['stage'].astype('category')\n",
    "df = df[df['stage'].isin(['N1', 'N2', 'N3', 'R', 'W'])]\n",
    "df.stage = df.stage.cat.remove_categories(9)"
   ]
  },
  {
   "cell_type": "code",
   "execution_count": 8,
   "metadata": {},
   "outputs": [],
   "source": [
    "# Export\n",
    "df.to_parquet(parent_dir+out_dir + \"features_with_ecg_100HZ_nsrr_shhs2.parquet\")"
   ]
  },
  {
   "cell_type": "code",
   "execution_count": 9,
   "metadata": {},
   "outputs": [
    {
     "data": {
      "text/plain": [
       "CategoricalDtype(categories=['N1', 'N2', 'N3', 'R', 'W'], ordered=False)"
      ]
     },
     "execution_count": 9,
     "metadata": {},
     "output_type": "execute_result"
    }
   ],
   "source": [
    "df.dtypes.stage"
   ]
  },
  {
   "cell_type": "code",
   "execution_count": null,
   "metadata": {},
   "outputs": [],
   "source": []
  },
  {
   "cell_type": "markdown",
   "metadata": {},
   "source": [
    "## Stats"
   ]
  },
  {
   "cell_type": "code",
   "execution_count": 10,
   "metadata": {},
   "outputs": [
    {
     "data": {
      "text/plain": [
       "W     0.426067\n",
       "N2    0.329285\n",
       "R     0.118415\n",
       "N3    0.093290\n",
       "N1    0.032943\n",
       "Name: stage, dtype: float64"
      ]
     },
     "execution_count": 10,
     "metadata": {},
     "output_type": "execute_result"
    }
   ],
   "source": [
    "# different because we skip one with different epoch #\n",
    "df['stage'].value_counts(normalize=True, sort=True)"
   ]
  },
  {
   "cell_type": "code",
   "execution_count": 11,
   "metadata": {},
   "outputs": [
    {
     "data": {
      "text/plain": [
       "stage\n",
       "N1    11.716578\n",
       "N2    15.945243\n",
       "N3    27.347612\n",
       "R     11.046414\n",
       "W     23.898228\n",
       "Name: eeg_iqr, dtype: float32"
      ]
     },
     "execution_count": 11,
     "metadata": {},
     "output_type": "execute_result"
    }
   ],
   "source": [
    "df.groupby('stage')['eeg_iqr'].median()"
   ]
  },
  {
   "cell_type": "code",
   "execution_count": 12,
   "metadata": {},
   "outputs": [
    {
     "data": {
      "text/plain": [
       "stage\n",
       "N1    0.896657\n",
       "N2    0.938594\n",
       "N3    0.915854\n",
       "R     0.924954\n",
       "W     0.760785\n",
       "Name: ECG_meanNN, dtype: float64"
      ]
     },
     "execution_count": 12,
     "metadata": {},
     "output_type": "execute_result"
    }
   ],
   "source": [
    "df.groupby('stage')['ECG_meanNN'].median()"
   ]
  },
  {
   "cell_type": "code",
   "execution_count": 13,
   "metadata": {},
   "outputs": [
    {
     "data": {
      "text/plain": [
       "stage\n",
       "N1    2.714922\n",
       "N2    2.126074\n",
       "N3    1.632590\n",
       "R     2.686968\n",
       "W     1.436331\n",
       "Name: ECG_CSI, dtype: float64"
      ]
     },
     "execution_count": 13,
     "metadata": {},
     "output_type": "execute_result"
    }
   ],
   "source": [
    "df.groupby('stage')['ECG_CSI'].median()"
   ]
  },
  {
   "cell_type": "code",
   "execution_count": 14,
   "metadata": {},
   "outputs": [
    {
     "data": {
      "text/plain": [
       "stage\n",
       "N1    0.368335\n",
       "N2    0.470350\n",
       "N3    0.612524\n",
       "R     0.372167\n",
       "W     0.696218\n",
       "Name: ECG_SD1_SD2_ratio, dtype: float64"
      ]
     },
     "execution_count": 14,
     "metadata": {},
     "output_type": "execute_result"
    }
   ],
   "source": [
    "df.groupby('stage')['ECG_SD1_SD2_ratio'].median()"
   ]
  },
  {
   "cell_type": "code",
   "execution_count": null,
   "metadata": {},
   "outputs": [],
   "source": []
  },
  {
   "cell_type": "code",
   "execution_count": null,
   "metadata": {},
   "outputs": [],
   "source": []
  }
 ],
 "metadata": {
  "kernelspec": {
   "display_name": "Python 3",
   "language": "python",
   "name": "python3"
  },
  "language_info": {
   "codemirror_mode": {
    "name": "ipython",
    "version": 3
   },
   "file_extension": ".py",
   "mimetype": "text/x-python",
   "name": "python",
   "nbconvert_exporter": "python",
   "pygments_lexer": "ipython3",
   "version": "3.8.2"
  }
 },
 "nbformat": 4,
 "nbformat_minor": 5
}
