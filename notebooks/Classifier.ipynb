{
 "cells": [
  {
   "cell_type": "code",
   "execution_count": 35,
   "id": "2715219a",
   "metadata": {},
   "outputs": [],
   "source": [
    "import os\n",
    "import pandas as pd\n",
    "import joblib\n",
    "from tqdm.notebook import tqdm\n",
    "from lightgbm import LGBMClassifier"
   ]
  },
  {
   "cell_type": "code",
   "execution_count": 36,
   "id": "e5c9e95e",
   "metadata": {},
   "outputs": [],
   "source": [
    "out_dir = \"output/classifiers/\"\n",
    "os.makedirs(out_dir, exist_ok = True)"
   ]
  },
  {
   "cell_type": "code",
   "execution_count": 2,
   "id": "0b8648b4",
   "metadata": {},
   "outputs": [],
   "source": [
    "df = pd.read_parquet(\"output/features/features_nsrr_shhs2.parquet\")"
   ]
  },
  {
   "cell_type": "code",
   "execution_count": 3,
   "id": "f5e96ad7",
   "metadata": {},
   "outputs": [
    {
     "data": {
      "text/html": [
       "<div>\n",
       "<style scoped>\n",
       "    .dataframe tbody tr th:only-of-type {\n",
       "        vertical-align: middle;\n",
       "    }\n",
       "\n",
       "    .dataframe tbody tr th {\n",
       "        vertical-align: top;\n",
       "    }\n",
       "\n",
       "    .dataframe thead th {\n",
       "        text-align: right;\n",
       "    }\n",
       "</style>\n",
       "<table border=\"1\" class=\"dataframe\">\n",
       "  <thead>\n",
       "    <tr style=\"text-align: right;\">\n",
       "      <th></th>\n",
       "      <th>subj</th>\n",
       "      <th>bmi</th>\n",
       "      <th>ahi</th>\n",
       "      <th>ethnicity</th>\n",
       "      <th>set</th>\n",
       "      <th>hypertension</th>\n",
       "    </tr>\n",
       "  </thead>\n",
       "  <tbody>\n",
       "    <tr>\n",
       "      <th>0</th>\n",
       "      <td>200077</td>\n",
       "      <td>23.388687</td>\n",
       "      <td>9.738220</td>\n",
       "      <td>caucasian</td>\n",
       "      <td>training</td>\n",
       "      <td>0.0</td>\n",
       "    </tr>\n",
       "    <tr>\n",
       "      <th>1</th>\n",
       "      <td>200078</td>\n",
       "      <td>30.211833</td>\n",
       "      <td>19.685039</td>\n",
       "      <td>caucasian</td>\n",
       "      <td>training</td>\n",
       "      <td>1.0</td>\n",
       "    </tr>\n",
       "    <tr>\n",
       "      <th>2</th>\n",
       "      <td>200079</td>\n",
       "      <td>35.451050</td>\n",
       "      <td>26.000000</td>\n",
       "      <td>other</td>\n",
       "      <td>testing</td>\n",
       "      <td>0.0</td>\n",
       "    </tr>\n",
       "  </tbody>\n",
       "</table>\n",
       "</div>"
      ],
      "text/plain": [
       "     subj        bmi        ahi  ethnicity       set  hypertension\n",
       "0  200077  23.388687   9.738220  caucasian  training           0.0\n",
       "1  200078  30.211833  19.685039  caucasian  training           1.0\n",
       "2  200079  35.451050  26.000000      other   testing           0.0"
      ]
     },
     "execution_count": 3,
     "metadata": {},
     "output_type": "execute_result"
    }
   ],
   "source": [
    "df_demo = pd.read_csv(\"output/demographics/shhs_demo.csv\")\n",
    "# Remove columns that are already present in `df`\n",
    "df_demo.drop(columns=['male', 'age'], inplace=True)\n",
    "df_demo"
   ]
  },
  {
   "cell_type": "markdown",
   "id": "c0ef2361",
   "metadata": {},
   "source": [
    "#### Build Training Features"
   ]
  },
  {
   "cell_type": "code",
   "execution_count": 18,
   "id": "c1ed8b4c",
   "metadata": {},
   "outputs": [],
   "source": [
    "cols_all = df.columns\n",
    "cols_time = cols_all[cols_all.str.startswith('time_')].tolist()\n",
    "# EEG also includes the time columns\n",
    "cols_eeg = cols_all[cols_all.str.startswith('eeg_')].tolist() + cols_time  \n",
    "cols_eog = cols_all[cols_all.str.startswith('eog_')].tolist()\n",
    "cols_emg = cols_all[cols_all.str.startswith('emg_')].tolist()\n",
    "cols_demo = ['age', 'male']"
   ]
  },
  {
   "cell_type": "code",
   "execution_count": 20,
   "id": "009726a7",
   "metadata": {},
   "outputs": [],
   "source": [
    "# Define predictors\n",
    "X_all = {\n",
    "    'eeg': df[cols_eeg],\n",
    "    'eeg+demo': df[cols_eeg + cols_demo],\n",
    "    \n",
    "    'eeg+eog': df[cols_eeg + cols_eog],\n",
    "    'eeg+eog+demo': df[cols_eeg + cols_eog + cols_demo],\n",
    "    \n",
    "    'eeg+emg': df[cols_eeg + cols_emg],\n",
    "    'eeg+emg+demo': df[cols_eeg + cols_emg + cols_demo],\n",
    "    \n",
    "    'eeg+eog+emg': df[cols_eeg + cols_eog + cols_emg],\n",
    "    'eeg+eog+emg+demo': df[cols_eeg + cols_eog + cols_emg + cols_demo],\n",
    "}\n",
    "\n",
    "# Define target and groups\n",
    "y = df['stage']\n",
    "subjects = df.index.get_level_values(0).to_numpy()"
   ]
  },
  {
   "cell_type": "code",
   "execution_count": 21,
   "id": "e7cedca5",
   "metadata": {},
   "outputs": [],
   "source": [
    "# Export a full list of features\n",
    "features = pd.Series(X_all['eeg+eog+emg+demo'].columns, name=\"Features\")\n",
    "features.to_csv(\"features.csv\", index=False)"
   ]
  },
  {
   "cell_type": "code",
   "execution_count": 26,
   "id": "8a39128e",
   "metadata": {},
   "outputs": [],
   "source": [
    "# Define hyper-parameters\n",
    "params = dict(\n",
    "    boosting_type='gbdt',\n",
    "    n_estimators=400,\n",
    "    max_depth=5,\n",
    "    num_leaves=90,\n",
    "    colsample_bytree=0.5,\n",
    "    importance_type='gain',\n",
    "    class_weight=None\n",
    ")"
   ]
  },
  {
   "cell_type": "code",
   "execution_count": 37,
   "id": "0502a9a5",
   "metadata": {},
   "outputs": [
    {
     "data": {
      "application/vnd.jupyter.widget-view+json": {
       "model_id": "72afa9bd2b2c4a21bc83402b026cdb3a",
       "version_major": 2,
       "version_minor": 0
      },
      "text/plain": [
       "HBox(children=(FloatProgress(value=0.0, max=8.0), HTML(value='')))"
      ]
     },
     "metadata": {},
     "output_type": "display_data"
    },
    {
     "name": "stdout",
     "output_type": "stream",
     "text": [
      "eeg (65 features) - training accuracy: 1.000\n",
      "eeg+demo (67 features) - training accuracy: 1.000\n",
      "eeg+eog (116 features) - training accuracy: 1.000\n",
      "eeg+eog+demo (118 features) - training accuracy: 1.000\n",
      "eeg+emg (98 features) - training accuracy: 1.000\n",
      "eeg+emg+demo (100 features) - training accuracy: 1.000\n",
      "eeg+eog+emg (149 features) - training accuracy: 1.000\n",
      "eeg+eog+emg+demo (151 features) - training accuracy: 1.000\n",
      "\n"
     ]
    }
   ],
   "source": [
    "# Parallel processing when building the trees.\n",
    "params['n_jobs'] = 8\n",
    "\n",
    "# Loop across combs of predictors\n",
    "for name, X in tqdm(X_all.items()):\n",
    "    \n",
    "    # Fit\n",
    "    clf = LGBMClassifier(**params)\n",
    "    clf.fit(X, y)\n",
    "\n",
    "    # Print the accuracy on the training dataset: shouldn't be too high..!\n",
    "    print(\"%s (%i features) - training accuracy: %.3f\" % \n",
    "        (name, X.shape[1], clf.score(X, y)))\n",
    "    \n",
    "    # Export trained classifier\n",
    "    if params['class_weight'] is not None:\n",
    "        fname = out_dir + 'clf_%s_lgb_%s_%s.joblib' % \\\n",
    "        (name, params['boosting_type'], class_weight)\n",
    "    else:\n",
    "        fname = out_dir + 'clf_%s_lgb_%s.joblib' % \\\n",
    "        (name, params['boosting_type'])\n",
    "        \n",
    "    # Export model\n",
    "    joblib.dump(clf, fname, compress=True)\n",
    "    \n",
    "    # Also save directly to YASA\n",
    "    # out_dir_yasa = \"/Users/raphael/GitHub/yasa/yasa/classifiers/\"\n",
    "    # fname_yasa = out_dir_yasa + 'clf_%s_lgb.joblib' % name\n",
    "    # joblib.dump(clf, fname_yasa, compress=True)\n",
    "    \n",
    "    # Features importance (full model only)\n",
    "    if name == \"eeg+eog+emg+demo\":\n",
    "        # Export LGBM feature importance\n",
    "        df_imp = pd.Series(clf.feature_importances_, index=clf.feature_name_, name='Importance').round()\n",
    "        df_imp.sort_values(ascending=False, inplace=True)\n",
    "        df_imp.index.name = 'Features'\n",
    "        df_imp.to_csv(fname[:-7] + \".csv\")"
   ]
  },
  {
   "cell_type": "code",
   "execution_count": null,
   "id": "49338856",
   "metadata": {},
   "outputs": [],
   "source": []
  }
 ],
 "metadata": {
  "kernelspec": {
   "display_name": "Python 3",
   "language": "python",
   "name": "python3"
  },
  "language_info": {
   "codemirror_mode": {
    "name": "ipython",
    "version": 3
   },
   "file_extension": ".py",
   "mimetype": "text/x-python",
   "name": "python",
   "nbconvert_exporter": "python",
   "pygments_lexer": "ipython3",
   "version": "3.8.8"
  }
 },
 "nbformat": 4,
 "nbformat_minor": 5
}
